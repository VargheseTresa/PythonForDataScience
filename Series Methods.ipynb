{
 "cells": [
  {
   "cell_type": "markdown",
   "metadata": {},
   "source": [
    "<h1 align=\"center\"> Pandas Series Object Methods </h1>"
   ]
  },
  {
   "cell_type": "code",
   "execution_count": 2,
   "metadata": {},
   "outputs": [],
   "source": [
    "import pandas as pd\n",
    "import numpy as np\n",
    "import pandas as pd\n"
   ]
  },
  {
   "cell_type": "markdown",
   "metadata": {},
   "source": [
    "## Accessing Series elements"
   ]
  },
  {
   "cell_type": "code",
   "execution_count": 8,
   "metadata": {},
   "outputs": [
    {
     "name": "stdout",
     "output_type": "stream",
     "text": [
      "Series 1\n",
      "-------------------------\n",
      "2    1\n",
      "4    2\n",
      "6    3\n",
      "8    4\n",
      "dtype: int64\n",
      "3\n",
      "1\n"
     ]
    },
    {
     "data": {
      "text/plain": [
       "2    1\n",
       "6    3\n",
       "dtype: int64"
      ]
     },
     "execution_count": 8,
     "metadata": {},
     "output_type": "execute_result"
    }
   ],
   "source": [
    "ser1 = pd.Series([1,2,3,4],index = [2,4,6,8])\n",
    "print(\"Series 1\",\"-\"*25,ser1,sep=\"\\n\")\n",
    "#array like access\n",
    "print(ser1[6])\n",
    "print(ser1[2])\n",
    "# ser1[3] here default index cant be used for access of individual elements\n",
    "ser1[0:3:2]"
   ]
  },
  {
   "cell_type": "code",
   "execution_count": 9,
   "metadata": {},
   "outputs": [
    {
     "name": "stdout",
     "output_type": "stream",
     "text": [
      "\n",
      "Series 2\n",
      "-------------------------\n",
      "CA    1\n",
      "OR    2\n",
      "NV    5\n",
      "AZ    4\n",
      "dtype: int64\n",
      "\n",
      "\n",
      "4\n",
      "4\n"
     ]
    },
    {
     "data": {
      "text/plain": [
       "CA    1\n",
       "OR    2\n",
       "NV    5\n",
       "dtype: int64"
      ]
     },
     "execution_count": 9,
     "metadata": {},
     "output_type": "execute_result"
    }
   ],
   "source": [
    "ser2 = pd.Series([1,2,5,4],['CA', 'OR', 'NV', 'AZ'])\n",
    "print(\"\\nSeries 2\",\"-\"*25,ser2,sep=\"\\n\")\n",
    "print(\"\\n\")\n",
    "#accessing with actual index and default index\n",
    "print(ser2['AZ'])\n",
    "print(ser2[3])\n",
    "ser2[0:3]"
   ]
  },
  {
   "cell_type": "markdown",
   "metadata": {},
   "source": [
    "## Adding two series"
   ]
  },
  {
   "cell_type": "code",
   "execution_count": 12,
   "metadata": {},
   "outputs": [
    {
     "name": "stdout",
     "output_type": "stream",
     "text": [
      "AZ    NaN\n",
      "CA    2.0\n",
      "CA    5.0\n",
      "CO    NaN\n",
      "NV    NaN\n",
      "OR    6.0\n",
      "dtype: float64\n",
      "\n",
      "Python tries to add values where it finds common index name, and puts NaN where indices are missing\n",
      "\n"
     ]
    }
   ],
   "source": [
    "ser1 = pd.Series([1,2,3,4],['CA', 'OR', 'CO', 'CA'])\n",
    "ser2 = pd.Series([1,2,5,4],['CA', 'NV', 'AZ','OR'])\n",
    "ser3 = ser1+ser2\n",
    "print(ser3)\n",
    "print(\"\\nPython tries to add values where it finds common index name, and puts NaN where indices are missing\\n\")"
   ]
  },
  {
   "cell_type": "markdown",
   "metadata": {},
   "source": [
    "## Multiplying two series"
   ]
  },
  {
   "cell_type": "code",
   "execution_count": 13,
   "metadata": {},
   "outputs": [
    {
     "name": "stdout",
     "output_type": "stream",
     "text": [
      "\n",
      "The idea works even for multiplication...\n",
      "-------------------------------------------\n",
      "AZ    NaN\n",
      "CA    1.0\n",
      "CA    4.0\n",
      "CO    NaN\n",
      "NV    NaN\n",
      "OR    8.0\n",
      "dtype: float64\n"
     ]
    }
   ],
   "source": [
    "print (\"\\nThe idea works even for multiplication...\\n\",'-'*43, sep='')\n",
    "print (ser1*ser2)\n"
   ]
  },
  {
   "cell_type": "markdown",
   "metadata": {},
   "source": [
    "## Methods for timestamp series"
   ]
  },
  {
   "cell_type": "code",
   "execution_count": 4,
   "metadata": {},
   "outputs": [
    {
     "name": "stdout",
     "output_type": "stream",
     "text": [
      "Bank Name                object\n",
      "City                     object\n",
      "ST                       object\n",
      "CERT                      int64\n",
      "Acquiring Institution    object\n",
      "Closing Date             object\n",
      "dtype: object\n"
     ]
    },
    {
     "data": {
      "text/plain": [
       "0     2020-04-03\n",
       "1     2020-02-14\n",
       "2     2019-11-01\n",
       "3     2019-10-25\n",
       "4     2019-10-25\n",
       "         ...    \n",
       "556   2001-07-27\n",
       "557   2001-05-03\n",
       "558   2001-02-02\n",
       "559   2000-12-14\n",
       "560   2000-10-13\n",
       "Name: Closing Date, Length: 561, dtype: datetime64[ns]"
      ]
     },
     "execution_count": 4,
     "metadata": {},
     "output_type": "execute_result"
    }
   ],
   "source": [
    "\n",
    "tables = pd.read_html(\"https://www.fdic.gov/bank/individual/failed/banklist.html\")\n",
    "failures = tables[0]\n",
    "print(failures.dtypes)\n",
    "#closing date is of type obj. we need to convert to timestamp\n",
    "close_timestamps = pd.to_datetime(failures['Closing Date'])\n",
    "close_timestamps"
   ]
  },
  {
   "cell_type": "code",
   "execution_count": 6,
   "metadata": {},
   "outputs": [
    {
     "name": "stdout",
     "output_type": "stream",
     "text": [
      "datetime64[ns]\n",
      "<class 'pandas.core.series.Series'>\n",
      "<class 'pandas._libs.tslibs.timestamps.Timestamp'>\n"
     ]
    }
   ],
   "source": [
    "print(close_timestamps.dtype)\n",
    "#df object uses dtypes\n",
    "print(type(close_timestamps))\n",
    "print(type(close_timestamps[0]))"
   ]
  },
  {
   "cell_type": "code",
   "execution_count": 7,
   "metadata": {},
   "outputs": [
    {
     "data": {
      "text/plain": [
       "2010    157\n",
       "2009    140\n",
       "2011     92\n",
       "2012     51\n",
       "2008     25\n",
       "2013     24\n",
       "2014     18\n",
       "2002     11\n",
       "2017      8\n",
       "2015      8\n",
       "2016      5\n",
       "2001      4\n",
       "2019      4\n",
       "2004      4\n",
       "2007      3\n",
       "2003      3\n",
       "2020      2\n",
       "2000      2\n",
       "Name: Closing Date, dtype: int64"
      ]
     },
     "execution_count": 7,
     "metadata": {},
     "output_type": "execute_result"
    }
   ],
   "source": [
    "close_timestamps.dt.year.value_counts()"
   ]
  },
  {
   "cell_type": "code",
   "execution_count": 8,
   "metadata": {},
   "outputs": [
    {
     "data": {
      "text/plain": [
       "7     74\n",
       "10    61\n",
       "4     60\n",
       "1     51\n",
       "2     45\n",
       "5     44\n",
       "8     41\n",
       "3     40\n",
       "9     38\n",
       "11    36\n",
       "6     36\n",
       "12    35\n",
       "Name: Closing Date, dtype: int64"
      ]
     },
     "execution_count": 8,
     "metadata": {},
     "output_type": "execute_result"
    }
   ],
   "source": [
    "close_timestamps.dt.month.value_counts()"
   ]
  },
  {
   "cell_type": "code",
   "execution_count": 9,
   "metadata": {},
   "outputs": [
    {
     "data": {
      "text/plain": [
       "0      30\n",
       "1      29\n",
       "2      30\n",
       "3      31\n",
       "4      31\n",
       "       ..\n",
       "556    31\n",
       "557    31\n",
       "558    28\n",
       "559    31\n",
       "560    31\n",
       "Name: Closing Date, Length: 561, dtype: int64"
      ]
     },
     "execution_count": 9,
     "metadata": {},
     "output_type": "execute_result"
    }
   ],
   "source": [
    "close_timestamps.dt.daysinmonth"
   ]
  }
 ],
 "metadata": {
  "kernelspec": {
   "display_name": "Python 3",
   "language": "python",
   "name": "python3"
  },
  "language_info": {
   "codemirror_mode": {
    "name": "ipython",
    "version": 3
   },
   "file_extension": ".py",
   "mimetype": "text/x-python",
   "name": "python",
   "nbconvert_exporter": "python",
   "pygments_lexer": "ipython3",
   "version": "3.7.6"
  }
 },
 "nbformat": 4,
 "nbformat_minor": 4
}
