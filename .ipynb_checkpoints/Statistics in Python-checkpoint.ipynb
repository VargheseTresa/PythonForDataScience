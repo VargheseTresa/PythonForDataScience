{
 "cells": [
  {
   "cell_type": "markdown",
   "metadata": {},
   "source": [
    "<h1 align=\"center\"> Statistics </h1>\n",
    "<h2 align = \"center\">Measures of Central Tendency </h2>"
   ]
  },
  {
   "cell_type": "markdown",
   "metadata": {},
   "source": [
    "## 1. Mean"
   ]
  },
  {
   "cell_type": "code",
   "execution_count": 13,
   "metadata": {},
   "outputs": [
    {
     "data": {
      "text/plain": [
       "25094.466975838062"
      ]
     },
     "execution_count": 13,
     "metadata": {},
     "output_type": "execute_result"
    }
   ],
   "source": [
    "import numpy as np\n",
    "\n",
    "mu, sigma = 25000, 15000 # define mean and standard deviation\n",
    "\n",
    "# draw a random sample from normal distribution with above mu and sigma\n",
    "expenditure = np.random.normal(25000, 15000, 10000)\n",
    "\n",
    "# Find mean of above sample\n",
    "np.mean(expenditure)\n"
   ]
  },
  {
   "cell_type": "code",
   "execution_count": 4,
   "metadata": {},
   "outputs": [
    {
     "data": {
      "text/plain": [
       "4.888888888888889"
      ]
     },
     "execution_count": 4,
     "metadata": {},
     "output_type": "execute_result"
    }
   ],
   "source": [
    "# Find mean of values stored as an array\n",
    "\n",
    "values = np.array([3,2,5,6,4,6,7,5,6])\n",
    "np.mean(values)"
   ]
  },
  {
   "cell_type": "code",
   "execution_count": 5,
   "metadata": {},
   "outputs": [
    {
     "data": {
      "text/plain": [
       "2.5"
      ]
     },
     "execution_count": 5,
     "metadata": {},
     "output_type": "execute_result"
    }
   ],
   "source": [
    "a = np.array([[1, 2], [3, 4]])\n",
    "np.mean(a)"
   ]
  },
  {
   "cell_type": "code",
   "execution_count": 6,
   "metadata": {},
   "outputs": [
    {
     "data": {
      "text/plain": [
       "array([2., 3.])"
      ]
     },
     "execution_count": 6,
     "metadata": {},
     "output_type": "execute_result"
    }
   ],
   "source": [
    "np.mean(a, axis=0)"
   ]
  },
  {
   "cell_type": "code",
   "execution_count": 7,
   "metadata": {},
   "outputs": [
    {
     "data": {
      "text/plain": [
       "array([1.5, 3.5])"
      ]
     },
     "execution_count": 7,
     "metadata": {},
     "output_type": "execute_result"
    }
   ],
   "source": [
    "np.mean(a, axis=1)"
   ]
  },
  {
   "cell_type": "markdown",
   "metadata": {},
   "source": [
    "## 2. Median"
   ]
  },
  {
   "cell_type": "code",
   "execution_count": 18,
   "metadata": {},
   "outputs": [
    {
     "data": {
      "text/plain": [
       "25226.656746925804"
      ]
     },
     "execution_count": 18,
     "metadata": {},
     "output_type": "execute_result"
    }
   ],
   "source": [
    "expenditure = np.random.normal(25000, 15000, 10000)\n",
    "\n",
    "np.median(expenditure)"
   ]
  },
  {
   "cell_type": "code",
   "execution_count": 19,
   "metadata": {},
   "outputs": [
    {
     "data": {
      "text/plain": [
       "25228.403664401307"
      ]
     },
     "execution_count": 19,
     "metadata": {},
     "output_type": "execute_result"
    }
   ],
   "source": [
    "# add a large number to the sample.\n",
    "expenditure = np.append(expenditure, [10000000000])\n",
    "\n",
    "# Calculate new median\n",
    "np.median(expenditure)\n",
    "\n",
    "# We can see that median is not impacted much by the outlier"
   ]
  },
  {
   "cell_type": "code",
   "execution_count": 20,
   "metadata": {},
   "outputs": [
    {
     "data": {
      "text/plain": [
       "1025210.7115861839"
      ]
     },
     "execution_count": 20,
     "metadata": {},
     "output_type": "execute_result"
    }
   ],
   "source": [
    "# Recalculating mean shows that it is impacted a lot by the outlier\n",
    "np.mean(expenditure)"
   ]
  },
  {
   "cell_type": "markdown",
   "metadata": {},
   "source": [
    "### With 2d arrays"
   ]
  },
  {
   "cell_type": "code",
   "execution_count": 21,
   "metadata": {},
   "outputs": [
    {
     "data": {
      "text/plain": [
       "3.5"
      ]
     },
     "execution_count": 21,
     "metadata": {},
     "output_type": "execute_result"
    }
   ],
   "source": [
    "\n",
    "\n",
    "a = np.array([[10, 7, 4], [3, 2, 1]])\n",
    "\n",
    "np.median(a)"
   ]
  },
  {
   "cell_type": "code",
   "execution_count": 23,
   "metadata": {},
   "outputs": [
    {
     "data": {
      "text/plain": [
       "array([6.5, 4.5, 2.5])"
      ]
     },
     "execution_count": 23,
     "metadata": {},
     "output_type": "execute_result"
    }
   ],
   "source": [
    "\n",
    "np.median(a, axis=0)\n"
   ]
  },
  {
   "cell_type": "code",
   "execution_count": 24,
   "metadata": {},
   "outputs": [
    {
     "data": {
      "text/plain": [
       "array([7., 2.])"
      ]
     },
     "execution_count": 24,
     "metadata": {},
     "output_type": "execute_result"
    }
   ],
   "source": [
    "\n",
    "np.median(a, axis=1)\n"
   ]
  },
  {
   "cell_type": "markdown",
   "metadata": {},
   "source": [
    "## 3. Mode"
   ]
  },
  {
   "cell_type": "code",
   "execution_count": 28,
   "metadata": {},
   "outputs": [
    {
     "data": {
      "text/plain": [
       "array([40, 41, 35, 43, 24, 48, 20, 32, 16, 39, 40, 47, 43, 44, 47, 43, 18,\n",
       "       35, 46, 43, 30, 27, 49, 32, 39, 28, 41, 45, 34, 30, 29, 37, 19, 18,\n",
       "       48, 38, 24, 43, 40, 46, 43, 27, 34, 48, 19, 44, 25, 41, 47, 28, 23,\n",
       "       19, 18, 15, 24, 25, 29, 27, 48, 46, 18, 18, 21, 26, 40, 26, 40, 46,\n",
       "       43, 28, 41, 29, 16, 31, 27, 43, 39, 45, 15, 41, 37, 43, 27, 35, 44,\n",
       "       30, 32, 27, 25, 27, 17, 17, 30, 42, 41, 34, 25, 34, 45, 39, 48, 45,\n",
       "       27, 16, 34, 26, 37, 44, 20, 29, 25, 15, 37, 22, 19, 44, 36, 20, 30,\n",
       "       19, 38, 30, 41, 29, 43, 16, 29, 15, 37, 44, 21, 23, 44, 40, 16, 23,\n",
       "       26, 47, 39, 27, 48, 21, 32, 37, 20, 16, 29, 26, 18, 42, 33, 18, 26,\n",
       "       34, 33, 24, 37, 44, 25, 37, 32, 22, 19, 43, 15, 43, 44, 28, 46, 16,\n",
       "       45, 22, 27, 45, 36, 42, 20, 36, 26, 30, 46, 18, 24, 47, 19, 42, 43,\n",
       "       34, 18, 22, 49, 44, 25, 37, 26, 29, 38, 23, 49, 39])"
      ]
     },
     "execution_count": 28,
     "metadata": {},
     "output_type": "execute_result"
    }
   ],
   "source": [
    "# Generate a random expenditure set data\n",
    "expenditure = np.random.randint(low=15, high=50, size=200)\n",
    "expenditure\n"
   ]
  },
  {
   "cell_type": "code",
   "execution_count": 29,
   "metadata": {},
   "outputs": [
    {
     "data": {
      "text/plain": [
       "ModeResult(mode=array([43]), count=array([13]))"
      ]
     },
     "execution_count": 29,
     "metadata": {},
     "output_type": "execute_result"
    }
   ],
   "source": [
    "from scipy import stats\n",
    "stats.mode(expenditure)\n"
   ]
  },
  {
   "cell_type": "markdown",
   "metadata": {},
   "source": [
    "# Measures of dispersion "
   ]
  },
  {
   "cell_type": "markdown",
   "metadata": {},
   "source": [
    "## 1. Variance "
   ]
  },
  {
   "cell_type": "code",
   "execution_count": 30,
   "metadata": {},
   "outputs": [
    {
     "data": {
      "text/plain": [
       "2.5833333333333335"
      ]
     },
     "execution_count": 30,
     "metadata": {},
     "output_type": "execute_result"
    }
   ],
   "source": [
    "import numpy as np\n",
    "\n",
    "results = [3,3,3,5,6,1]\n",
    "np.var(results)\n"
   ]
  },
  {
   "cell_type": "markdown",
   "metadata": {},
   "source": [
    "## 2. Standard Deviation"
   ]
  },
  {
   "cell_type": "code",
   "execution_count": 32,
   "metadata": {},
   "outputs": [
    {
     "data": {
      "text/plain": [
       "1.6072751268321592"
      ]
     },
     "execution_count": 32,
     "metadata": {},
     "output_type": "execute_result"
    }
   ],
   "source": [
    "np.std(results)"
   ]
  },
  {
   "cell_type": "markdown",
   "metadata": {},
   "source": [
    "#### A combined example with different statistical measures"
   ]
  },
  {
   "cell_type": "code",
   "execution_count": 33,
   "metadata": {},
   "outputs": [
    {
     "name": "stdout",
     "output_type": "stream",
     "text": [
      "Mean: 5.0\n",
      "Median: 5.0\n",
      "Mode: ModeResult(mode=array([5]), count=array([2]))\n",
      "STD 4.997958767010258\n",
      "Var: 24.9795918367347\n"
     ]
    }
   ],
   "source": [
    "# Using Numpy & Scipy to calculate Mean, Mode, and Median\n",
    "import numpy as np\n",
    "from scipy import stats\n",
    "\n",
    "dataset = [5,5,2,3,4,6,18]\n",
    "\n",
    "#mean value\n",
    "mean = np.median(dataset)\n",
    "#median value\n",
    "median = np.median(dataset)\n",
    "#mode value \n",
    "mode = stats.mode(dataset)\n",
    "\n",
    "std = np.std(dataset)\n",
    "vr = np.var(dataset)\n",
    "\n",
    "print(\"Mean:\", mean)\n",
    "print(\"Median:\", median)\n",
    "print(\"Mode:\", mode)\n",
    "print(\"STD\", std)\n",
    "print(\"Var:\", vr)\n"
   ]
  },
  {
   "cell_type": "markdown",
   "metadata": {},
   "source": [
    "# Probability Density Function"
   ]
  },
  {
   "cell_type": "markdown",
   "metadata": {},
   "source": [
    "## 1. Binomial Distribution"
   ]
  },
  {
   "cell_type": "code",
   "execution_count": 34,
   "metadata": {},
   "outputs": [
    {
     "data": {
      "text/plain": [
       "[Text(0, 0.5, 'Frequency'), Text(0.5, 0, 'Binomial')]"
      ]
     },
     "execution_count": 34,
     "metadata": {},
     "output_type": "execute_result"
    },
    {
     "data": {
      "image/png": "[encoded data removed]",
      "text/plain": [
       "<Figure size 432x288 with 1 Axes>"
      ]
     },
     "metadata": {
      "needs_background": "light"
     },
     "output_type": "display_data"
    }
   ],
   "source": [
    "import seaborn\n",
    "from scipy.stats import binom\n",
    "\n",
    "data=binom.rvs(n=17,p=0.7,loc=0,size=1010)\n",
    "ax=seaborn.distplot(data,kde=True,color='pink',hist_kws={\"linewidth\": 22,'alpha':0.77})\n",
    "ax.set(xlabel='Binomial',ylabel='Frequency')\n"
   ]
  },
  {
   "cell_type": "markdown",
   "metadata": {},
   "source": [
    "Qn: \n",
    "    \n",
    "1.\tGenerate a random number between ‘0’ and ‘1’. If that number is greater than or equal to 0.5, then it will count it as heads, otherwise tails. Do this n times using a list comprehension of python. This should happen within the function run_binom.\n",
    "\n",
    "2.\tRepeat this a specified number of times (the input variable trials specify the number of trials). We will perform 1,000 trials.\n"
   ]
  },
  {
   "cell_type": "code",
   "execution_count": 46,
   "metadata": {},
   "outputs": [
    {
     "data": {
      "text/plain": [
       "Text(0.5, 0, 'Number of Heads')"
      ]
     },
     "execution_count": 46,
     "metadata": {},
     "output_type": "execute_result"
    },
    {
     "data": {
      "image/png": "[encoded data removed]",
      "text/plain": [
       "<Figure size 1008x504 with 1 Axes>"
      ]
     },
     "metadata": {
      "needs_background": "light"
     },
     "output_type": "display_data"
    }
   ],
   "source": [
    "# Import libraries\n",
    "import numpy as np\n",
    "import matplotlib.pyplot as plt\n",
    "import seaborn as sns\n",
    "\n",
    "# Input variables\n",
    "\n",
    "# Number of trials\n",
    "trials = 1000\n",
    "\n",
    "# Number of independent experiments in each trial\n",
    "n = 10\n",
    "\n",
    "# Probability of success for each experiment\n",
    "p = 0.5\n",
    "\n",
    "# Function that runs our coin toss trials\n",
    "def run_binom(trials, n, p):\n",
    "    head = []\n",
    "    for i in range(trials): # the following is performed for trial number of times\n",
    "        toss = [np.random.random() for i in range (n) ]\n",
    "        head.append (len ([i for i in toss if i>=0.50]))\n",
    "    return head\n",
    "\n",
    "\n",
    "# Run the function\n",
    "heads = run_binom(trials, n, p)\n",
    "\n",
    "\n",
    "# Plot and save the results as the histogram\n",
    "fig, ax = plt.subplots(figsize=(14,7))\n",
    "ax = sns.distplot(heads, bins=11, label='simulation results')\n",
    "\n",
    "ax.set_xlabel(\"Number of Heads\",fontsize=16)\n"
   ]
  },
  {
   "cell_type": "code",
   "execution_count": 41,
   "metadata": {},
   "outputs": [
    {
     "name": "stdout",
     "output_type": "stream",
     "text": [
      "[0.5713680360613627, 0.2409623101945022, 0.3693860704983687]\n",
      "[1]\n",
      "[0.3499126942396865, 0.2568000707045449, 0.22799654585080076]\n",
      "[1, 0]\n",
      "[0.23091569071329854, 0.648346277577055, 0.9573843463948234]\n",
      "[1, 0, 2]\n",
      "[0.7333946507704237, 0.8883550606362224, 0.8332476367075781]\n",
      "[1, 0, 2, 3]\n",
      "[0.8272122332318781, 0.2283433971097386, 0.5145216760218696]\n",
      "[1, 0, 2, 3, 2]\n",
      "[0.9419689119910506, 0.5846777985205951, 0.7905765688089377]\n",
      "[1, 0, 2, 3, 2, 3]\n",
      "[0.721971033394458, 0.5869403073135131, 0.4969098095475184]\n",
      "[1, 0, 2, 3, 2, 3, 2]\n",
      "[0.30359699141135743, 0.5451823582556689, 0.6916473664804506]\n",
      "[1, 0, 2, 3, 2, 3, 2, 2]\n",
      "[0.28213348420956086, 0.23881287437169574, 0.2914443693644597]\n",
      "[1, 0, 2, 3, 2, 3, 2, 2, 0]\n",
      "[0.6542205442081043, 0.8033193809384667, 0.29480036641965934]\n",
      "[1, 0, 2, 3, 2, 3, 2, 2, 0, 2]\n"
     ]
    },
    {
     "data": {
      "text/plain": [
       "[1, 0, 2, 3, 2, 3, 2, 2, 0, 2]"
      ]
     },
     "execution_count": 41,
     "metadata": {},
     "output_type": "execute_result"
    }
   ],
   "source": [
    "#code fragment for learning\n",
    "\n",
    "# Number of trials\n",
    "trials = 10\n",
    "\n",
    "# Number of independent experiments in each trial\n",
    "n = 3\n",
    "\n",
    "# Probability of success for each experiment\n",
    "p = 0.5\n",
    "\n",
    "# Function that runs our coin toss trials\n",
    "def run_binom(trials, n, p):\n",
    "    head = []\n",
    "    for i in range(trials):  \n",
    "        toss = [np.random.random() for i in range (n) ] # In each trial, n random numbers are generated\n",
    "        print(toss)\n",
    "        head.append (len ([i for i in toss if i>=0.50])) # Find the number of values that satisfy condition\n",
    "        print(head)\n",
    "    return head\n",
    "\n",
    "heads = run_binom(trials, n, p)\n",
    "heads"
   ]
  },
  {
   "cell_type": "code",
   "execution_count": 42,
   "metadata": {},
   "outputs": [
    {
     "name": "stdout",
     "output_type": "stream",
     "text": [
      "[0.7337309130498927, 0.5868359908468844, 0.8997434784308722]\n",
      "[0.7337309130498927, 0.5868359908468844, 0.8997434784308722]\n",
      "[0.4921762366212673, 0.16603865592137745, 0.10715803546864644]\n",
      "[]\n",
      "[0.7651474563804013, 0.12785800585862028, 0.5241038164714853]\n",
      "[0.7651474563804013, 0.5241038164714853]\n",
      "[0.970451527922271, 0.8982273405766187, 0.30616195499010146]\n",
      "[0.970451527922271, 0.8982273405766187]\n",
      "[0.2860887055129874, 0.5588939646226125, 0.2008623797741429]\n",
      "[0.5588939646226125]\n",
      "[0.7869707964905558, 0.4497345570815827, 0.7286085209280234]\n",
      "[0.7869707964905558, 0.7286085209280234]\n",
      "[0.5182288355886127, 0.6768694770340389, 0.5731879557161279]\n",
      "[0.5182288355886127, 0.6768694770340389, 0.5731879557161279]\n",
      "[0.4002298310584047, 0.7651823055775431, 0.6779509418795413]\n",
      "[0.7651823055775431, 0.6779509418795413]\n",
      "[0.30621836020126336, 0.7430463037069179, 0.09455420153891536]\n",
      "[0.7430463037069179]\n",
      "[0.19186892802105315, 0.3188686478580961, 0.5358948262062263]\n",
      "[0.5358948262062263]\n"
     ]
    }
   ],
   "source": []
  },
  {
   "cell_type": "code",
   "execution_count": 47,
   "metadata": {},
   "outputs": [
    {
     "name": "stdout",
     "output_type": "stream",
     "text": [
      "The probability of 6 heads is: 0.2447\n"
     ]
    }
   ],
   "source": [
    "# Probability of getting 5 heads\n",
    "\n",
    "runs = 10000\n",
    "prob_5 = sum([1 for i in np.random.binomial(n, p, size = runs) if i==5])/runs\n",
    "print('The probability of 6 heads is: ' + str(prob_5))\n"
   ]
  }
 ],
 "metadata": {
  "kernelspec": {
   "display_name": "Python 3",
   "language": "python",
   "name": "python3"
  },
  "language_info": {
   "codemirror_mode": {
    "name": "ipython",
    "version": 3
   },
   "file_extension": ".py",
   "mimetype": "text/x-python",
   "name": "python",
   "nbconvert_exporter": "python",
   "pygments_lexer": "ipython3",
   "version": "3.7.6"
  }
 },
 "nbformat": 4,
 "nbformat_minor": 4
}
