{
 "cells": [
  {
   "cell_type": "markdown",
   "metadata": {},
   "source": [
    "<h1 align=\"center\"> Pandas Series Object Methods </h1>"
   ]
  },
  {
   "cell_type": "markdown",
   "metadata": {},
   "source": [
    "## Methods for timestamp series"
   ]
  },
  {
   "cell_type": "code",
   "execution_count": 4,
   "metadata": {},
   "outputs": [
    {
     "name": "stdout",
     "output_type": "stream",
     "text": [
      "Bank Name                object\n",
      "City                     object\n",
      "ST                       object\n",
      "CERT                      int64\n",
      "Acquiring Institution    object\n",
      "Closing Date             object\n",
      "dtype: object\n"
     ]
    },
    {
     "data": {
      "text/plain": [
       "0     2020-04-03\n",
       "1     2020-02-14\n",
       "2     2019-11-01\n",
       "3     2019-10-25\n",
       "4     2019-10-25\n",
       "         ...    \n",
       "556   2001-07-27\n",
       "557   2001-05-03\n",
       "558   2001-02-02\n",
       "559   2000-12-14\n",
       "560   2000-10-13\n",
       "Name: Closing Date, Length: 561, dtype: datetime64[ns]"
      ]
     },
     "execution_count": 4,
     "metadata": {},
     "output_type": "execute_result"
    }
   ],
   "source": [
    "import pandas as pd\n",
    "\n",
    "tables = pd.read_html(\"https://www.fdic.gov/bank/individual/failed/banklist.html\")\n",
    "failures = tables[0]\n",
    "print(failures.dtypes)\n",
    "#closing date is of type obj. we need to convert to timestamp\n",
    "close_timestamps = pd.to_datetime(failures['Closing Date'])\n",
    "close_timestamps"
   ]
  },
  {
   "cell_type": "code",
   "execution_count": 6,
   "metadata": {},
   "outputs": [
    {
     "name": "stdout",
     "output_type": "stream",
     "text": [
      "datetime64[ns]\n",
      "<class 'pandas.core.series.Series'>\n",
      "<class 'pandas._libs.tslibs.timestamps.Timestamp'>\n"
     ]
    }
   ],
   "source": [
    "print(close_timestamps.dtype)\n",
    "#df object uses dtypes\n",
    "print(type(close_timestamps))\n",
    "print(type(close_timestamps[0]))"
   ]
  },
  {
   "cell_type": "code",
   "execution_count": 7,
   "metadata": {},
   "outputs": [
    {
     "data": {
      "text/plain": [
       "2010    157\n",
       "2009    140\n",
       "2011     92\n",
       "2012     51\n",
       "2008     25\n",
       "2013     24\n",
       "2014     18\n",
       "2002     11\n",
       "2017      8\n",
       "2015      8\n",
       "2016      5\n",
       "2001      4\n",
       "2019      4\n",
       "2004      4\n",
       "2007      3\n",
       "2003      3\n",
       "2020      2\n",
       "2000      2\n",
       "Name: Closing Date, dtype: int64"
      ]
     },
     "execution_count": 7,
     "metadata": {},
     "output_type": "execute_result"
    }
   ],
   "source": [
    "close_timestamps.dt.year.value_counts()"
   ]
  },
  {
   "cell_type": "code",
   "execution_count": 8,
   "metadata": {},
   "outputs": [
    {
     "data": {
      "text/plain": [
       "7     74\n",
       "10    61\n",
       "4     60\n",
       "1     51\n",
       "2     45\n",
       "5     44\n",
       "8     41\n",
       "3     40\n",
       "9     38\n",
       "11    36\n",
       "6     36\n",
       "12    35\n",
       "Name: Closing Date, dtype: int64"
      ]
     },
     "execution_count": 8,
     "metadata": {},
     "output_type": "execute_result"
    }
   ],
   "source": [
    "close_timestamps.dt.month.value_counts()"
   ]
  },
  {
   "cell_type": "code",
   "execution_count": 9,
   "metadata": {},
   "outputs": [
    {
     "data": {
      "text/plain": [
       "0      30\n",
       "1      29\n",
       "2      30\n",
       "3      31\n",
       "4      31\n",
       "       ..\n",
       "556    31\n",
       "557    31\n",
       "558    28\n",
       "559    31\n",
       "560    31\n",
       "Name: Closing Date, Length: 561, dtype: int64"
      ]
     },
     "execution_count": 9,
     "metadata": {},
     "output_type": "execute_result"
    }
   ],
   "source": [
    "close_timestamps.dt.daysinmonth"
   ]
  }
 ],
 "metadata": {
  "kernelspec": {
   "display_name": "Python 3",
   "language": "python",
   "name": "python3"
  },
  "language_info": {
   "codemirror_mode": {
    "name": "ipython",
    "version": 3
   },
   "file_extension": ".py",
   "mimetype": "text/x-python",
   "name": "python",
   "nbconvert_exporter": "python",
   "pygments_lexer": "ipython3",
   "version": "3.7.6"
  }
 },
 "nbformat": 4,
 "nbformat_minor": 4
}
